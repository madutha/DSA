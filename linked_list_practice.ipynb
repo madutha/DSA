{
 "cells": [
  {
   "cell_type": "code",
   "execution_count": 6,
   "id": "82adde4e",
   "metadata": {},
   "outputs": [],
   "source": [
    "class node:\n",
    "    def __init__(self,value):\n",
    "         self.data = value\n",
    "         self.next = None\n",
    "\n",
    "\n",
    "a = node(25)\n",
    "b = node(2223)\n",
    "c = node(32)\n",
    "d = node(235)"
   ]
  },
  {
   "cell_type": "code",
   "execution_count": 7,
   "id": "f0281d2a",
   "metadata": {},
   "outputs": [
    {
     "name": "stdout",
     "output_type": "stream",
     "text": [
      "None\n"
     ]
    }
   ],
   "source": [
    "print(a.next)"
   ]
  },
  {
   "cell_type": "code",
   "execution_count": 8,
   "id": "a2b401d8",
   "metadata": {},
   "outputs": [
    {
     "data": {
      "text/plain": [
       "2303749804864"
      ]
     },
     "execution_count": 8,
     "metadata": {},
     "output_type": "execute_result"
    }
   ],
   "source": [
    "id(a)"
   ]
  },
  {
   "cell_type": "code",
   "execution_count": 9,
   "id": "08f8fd32",
   "metadata": {},
   "outputs": [],
   "source": [
    "a.next=b\n",
    "b.next=c\n",
    "c.next=d"
   ]
  },
  {
   "cell_type": "code",
   "execution_count": 107,
   "id": "1a5a79e3",
   "metadata": {},
   "outputs": [],
   "source": [
    "class Node:\n",
    "    def __init__(self,value):\n",
    "        self.data = value\n",
    "        self.next = None\n",
    "\n",
    "class Linked_list:\n",
    "    def __init__(self):\n",
    "        self.head = None\n",
    "        self.n = 0\n",
    "\n",
    "    def __len__(self):\n",
    "        return self.n\n",
    "\n",
    "    def insert_head(self,value):\n",
    "        new_node = Node(value)\n",
    "        new_node.next = self.head\n",
    "        self.head = new_node\n",
    "        self.n = self.n + 1\n",
    "\n",
    "    def __str__(self):\n",
    "        result = \"\"\n",
    "        curr = self.head\n",
    "        while curr!= None:\n",
    "            result = result + str(curr.data) + \"->\"\n",
    "            \n",
    "            curr = curr.next\n",
    "        return result[:-2]\n",
    "    \n",
    "    def append(self,value):\n",
    "        new_node = Node(value)\n",
    "        if self.head == None:\n",
    "            self.head = new_node\n",
    "            self.n += 1\n",
    "            return  \n",
    "        new_node = Node(value)\n",
    "        curr = self.head\n",
    "        while curr.next != None:\n",
    "            curr = curr.next\n",
    "\n",
    "        curr.next = new_node\n",
    "\n",
    "    \n",
    "\n",
    "\n",
    "\n",
    "\n",
    "\n",
    "          "
   ]
  },
  {
   "cell_type": "code",
   "execution_count": 108,
   "id": "fa7dc7ad",
   "metadata": {},
   "outputs": [],
   "source": [
    "L = Linked_list()\n",
    "\n"
   ]
  },
  {
   "cell_type": "code",
   "execution_count": 109,
   "id": "ee5882c5",
   "metadata": {},
   "outputs": [],
   "source": [
    "L.insert_head(4)\n",
    "L.insert_head(5)\n",
    "L.insert_head(2)\n",
    "L.insert_head(1)"
   ]
  },
  {
   "cell_type": "code",
   "execution_count": 110,
   "id": "56592541",
   "metadata": {},
   "outputs": [],
   "source": [
    "L.append(6)\n"
   ]
  },
  {
   "cell_type": "code",
   "execution_count": 111,
   "id": "c71de244",
   "metadata": {},
   "outputs": [
    {
     "name": "stdout",
     "output_type": "stream",
     "text": [
      "1->2->5->4->6\n"
     ]
    }
   ],
   "source": [
    "print(L)"
   ]
  },
  {
   "cell_type": "code",
   "execution_count": null,
   "id": "7e6dc36d",
   "metadata": {},
   "outputs": [],
   "source": []
  }
 ],
 "metadata": {
  "kernelspec": {
   "display_name": "Python 3",
   "language": "python",
   "name": "python3"
  },
  "language_info": {
   "codemirror_mode": {
    "name": "ipython",
    "version": 3
   },
   "file_extension": ".py",
   "mimetype": "text/x-python",
   "name": "python",
   "nbconvert_exporter": "python",
   "pygments_lexer": "ipython3",
   "version": "3.12.0"
  }
 },
 "nbformat": 4,
 "nbformat_minor": 5
}
